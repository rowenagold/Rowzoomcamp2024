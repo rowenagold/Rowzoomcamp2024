{
 "cells": [
  {
   "cell_type": "code",
   "execution_count": null,
   "id": "663e5435-d303-42d9-81c3-4fbb697fd632",
   "metadata": {},
   "outputs": [],
   "source": [
    "print('hello world in codespaces')"
   ]
  }
 ],
 "metadata": {
  "kernelspec": {
   "display_name": "Python 3 (ipykernel)",
   "language": "python",
   "name": "python3"
  },
  "language_info": {
   "codemirror_mode": {
    "name": "ipython",
    "version": 3
   },
   "file_extension": ".py",
   "mimetype": "text/x-python",
   "name": "python",
   "nbconvert_exporter": "python",
   "pygments_lexer": "ipython3",
   "version": "3.10.13"
  }
 },
 "nbformat": 4,
 "nbformat_minor": 5
}
